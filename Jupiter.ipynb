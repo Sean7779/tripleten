{
 "cells": [
  {
   "cell_type": "code",
   "execution_count": null,
   "id": "8030a891",
   "metadata": {
    "vscode": {
     "languageId": "plaintext"
    }
   },
   "outputs": [],
   "source": [
    "print(\"Hello, World\") \n",
    "print(\"Learning about commits today\") \n",
    "print('praise God, and code') "
   ]
  },
  {
   "cell_type": "markdown",
   "id": "bbf6132e",
   "metadata": {},
   "source": []
  },
  {
   "cell_type": "code",
   "execution_count": null,
   "id": "91cdd153",
   "metadata": {
    "vscode": {
     "languageId": "plaintext"
    }
   },
   "outputs": [],
   "source": [
    "import random\n",
    "\n",
    "greetings = [\n",
    "    \"Hello, Git!\",\n",
    "    \"Greetings, developer!\",\n",
    "    \"Welcome to branching!\",\n",
    "    \"Hi there, coding friend!\",\n",
    "    \"Happy coding!\"\n",
    "]\n",
    "\n",
    "def get_random_greeting():\n",
    "    return random.choice(greetings)\n",
    "\n",
    "print(get_random_greeting())\n",
    "print(\"Learning about branches today!\")\n",
    "\n",
    "\n"
   ]
  },
  {
   "cell_type": "code",
   "execution_count": null,
   "id": "79112fd9",
   "metadata": {
    "vscode": {
     "languageId": "plaintext"
    }
   },
   "outputs": [],
   "source": []
  },
  {
   "cell_type": "code",
   "execution_count": null,
   "id": "a0080f81",
   "metadata": {
    "vscode": {
     "languageId": "plaintext"
    }
   },
   "outputs": [],
   "source": []
  },
  {
   "cell_type": "code",
   "execution_count": null,
   "id": "5d866149",
   "metadata": {
    "vscode": {
     "languageId": "plaintext"
    }
   },
   "outputs": [],
   "source": []
  },
  {
   "cell_type": "code",
   "execution_count": null,
   "id": "521c727f",
   "metadata": {
    "vscode": {
     "languageId": "plaintext"
    }
   },
   "outputs": [],
   "source": []
  }
 ],
 "metadata": {
  "language_info": {
   "name": "python"
  }
 },
 "nbformat": 4,
 "nbformat_minor": 5
}
